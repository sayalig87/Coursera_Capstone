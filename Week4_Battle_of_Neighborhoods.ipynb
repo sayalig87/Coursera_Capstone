{
 "cells": [
  {
   "cell_type": "markdown",
   "metadata": {},
   "source": [
    "<h1> Battle of Neighborhoods -  City of Vancouver</h1>"
   ]
  },
  {
   "cell_type": "markdown",
   "metadata": {},
   "source": [
    "<h2>Introduction/Business Problem</h2>"
   ]
  },
  {
   "cell_type": "markdown",
   "metadata": {},
   "source": [
    "<p>The purpose of this project is to explore neighborhoods in Vancouver, Canda to open a kids mall. A mall that offers kids accessories, food, clothing, gaming and entertainment. The mall would be purely dedicated to kids entertainment and requirements.</p>\n",
    "<p>Finding a kids mall that would suffice all the needs of children is rare. A place that would be convenient especially for parents to buy baby food, clothing, toys, etc at one stop with no need of traveling to different places for different requirement. The mall will provide the residents of Vancouver a place that would fulfill all the requirements of their child.</p>"
   ]
  },
  {
   "cell_type": "markdown",
   "metadata": {},
   "source": [
    "<p>The project aims to explore different neighborhods in Vancouver that would be optimal to open a new Kids mall. The analysis would be based on different features like number of playground, parks, kids store, garden in the neighborhood.</p>"
   ]
  },
  {
   "cell_type": "markdown",
   "metadata": {},
   "source": [
    "<p><b>Business problem:</b> <i>Explore neighborhoods optimal to open a new kids store.</i></p>\n",
    "<p><b>Stakeholders:</b> <i>Residents of Vancouver especially parents that would get benefit of all the services at one stop.</i></p>"
   ]
  },
  {
   "cell_type": "markdown",
   "metadata": {},
   "source": [
    "<h2>Data</h2>"
   ]
  },
  {
   "cell_type": "markdown",
   "metadata": {},
   "source": [
    "<p><b>Foursquare API: </b>The project would be using Foursquare API to fetch Vancouver city data. The API provides geo-tagging, venue search, venue recommendations and more.</p>"
   ]
  },
  {
   "cell_type": "markdown",
   "metadata": {},
   "source": [
    "<p><b>Relevant factors: </b>As we would be deteremining a more suitable neighborhood to open a new kids mall. Some factors like- \n",
    "<ol>\n",
    "    <li>Number of existing kids store in the neighborhood that would lead to competition.</li>\n",
    "    <li>Number of playground, parks, garden in the neighborhood that would attract customers to the Kids mall</li>\n",
    "    <li> Demographics of the neighborhood</li>\n",
    "</ol>\n",
    "</p>"
   ]
  },
  {
   "cell_type": "markdown",
   "metadata": {},
   "source": [
    "<p>Venue types would be playing a key role to determine how promising is the location to open a new Kids store. Futher the clustering and segmentation of neighborhoods based on the mentioned factor would provide a clear picture to determine a promising neighborhood.</p> "
   ]
  },
  {
   "cell_type": "markdown",
   "metadata": {},
   "source": [
    "<p><b>Resources: </b>\n",
    "    <br>\n",
    "    <ul>\n",
    "        <li>For information related to Vancouver city and its postal codes; webscrapping would be done from\n",
    "            <a href=\"https://en.wikipedia.org/wiki/List_of_postal_codes_of_Canada:_V\">\n",
    "               <code>List_of_postal_codes_of_Canada:_V</code>\n",
    "            </a>\n",
    "    <br>\n",
    "        Vancouver's neighborhoods along with postal codes would be extracted.</li>\n",
    "        <li>Get location co-ordinates of each postal code using- <u>Geocoder</u>.</li>\n",
    "        <li>Venue related data such as venue name, type, location, tips via- <u>Foursquare API</u>\n",
    "            <ul>\n",
    "                <li>Venue types- garden, parks, playground, kids store would be used for analysis</li>\n",
    "            </ul>\n",
    "        </li>\n",
    "    </ul>    \n",
    "</p>"
   ]
  },
  {
   "cell_type": "code",
   "execution_count": null,
   "metadata": {},
   "outputs": [],
   "source": []
  }
 ],
 "metadata": {
  "kernelspec": {
   "display_name": "Python 3",
   "language": "python",
   "name": "python3"
  },
  "language_info": {
   "codemirror_mode": {
    "name": "ipython",
    "version": 3
   },
   "file_extension": ".py",
   "mimetype": "text/x-python",
   "name": "python",
   "nbconvert_exporter": "python",
   "pygments_lexer": "ipython3",
   "version": "3.6.5"
  }
 },
 "nbformat": 4,
 "nbformat_minor": 2
}
